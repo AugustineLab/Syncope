{
 "cells": [
  {
   "cell_type": "markdown",
   "metadata": {},
   "source": [
    "# Analysis of neuropixels data\n",
    "\n",
    "Install libraries needed:"
   ]
  },
  {
   "cell_type": "code",
   "execution_count": null,
   "metadata": {},
   "outputs": [],
   "source": [
    "!pip install rastermap \n",
    "!pip install mat73\n",
    "# for plotting\n",
    "!pip install matplotlib\n",
    "!pip install opencv-python-headless"
   ]
  },
  {
   "cell_type": "markdown",
   "metadata": {},
   "source": [
    "You will also need to install pytorch, see instructions here: https://pytorch.org/get-started/locally/\n",
    "\n",
    "If you have a GPU available you will want to install the CUDA version of pytorch."
   ]
  },
  {
   "cell_type": "code",
   "execution_count": null,
   "metadata": {},
   "outputs": [],
   "source": [
    "import numpy as np\n",
    "import matplotlib.pyplot as plt\n",
    "import cv2\n",
    "import torch \n",
    "\n",
    "# these files are in the same folder as the notebook\n",
    "import prediction, datasets, process, summary\n",
    "\n",
    "from process import mice, days \n",
    "mouse = mice[0]\n",
    "day = days[0][0]\n",
    "\n",
    "# path to data\n",
    "root = '/media/carsen/ssd2/syncope/'\n",
    "\n",
    "for i, mouse in enumerate(mice):\n",
    "    for day in days[i]:\n",
    "        process.process_dataset(root, mouse, day, device=torch.device('cuda'))"
   ]
  },
  {
   "cell_type": "markdown",
   "metadata": {},
   "source": [
    "## neural activity analysis\n",
    "\n",
    "compute summary statistics of latencies, firing rates etc"
   ]
  },
  {
   "cell_type": "code",
   "execution_count": null,
   "metadata": {},
   "outputs": [],
   "source": [
    "process.get_stats(root)"
   ]
  },
  {
   "cell_type": "markdown",
   "metadata": {},
   "source": [
    "visualize stats"
   ]
  },
  {
   "cell_type": "code",
   "execution_count": null,
   "metadata": {},
   "outputs": [],
   "source": [
    "dat = np.load('summary_stats.npz', allow_pickle=True)\n",
    "arrays = []\n",
    "for f in dat.files:\n",
    "    arrays.append(dat[f])\n",
    "\n",
    "(latenciesS, rastersS, latenciesO, rastersO, latenciesC, rastersC, latenciesL, rastersL,\n",
    "    suppresseds, laser_frs, areas, firing_rates, firing_variances, rasters_summary, timeoffs) = arrays"
   ]
  },
  {
   "cell_type": "code",
   "execution_count": null,
   "metadata": {},
   "outputs": [],
   "source": [
    "area_names, sareas = np.unique(areas.copy(), return_inverse=True) \n",
    "\n",
    "imp.reload(datasets)\n",
    "region_names, region, superregion_names, superregion = datasets.region_categories()\n",
    "\n",
    "regions = np.zeros(len(sareas), 'int')\n",
    "super_regions = np.zeros(len(sareas), 'int')\n",
    "\n",
    "for s,an in enumerate(area_names):\n",
    "    reg = np.array([an in r for r in region])\n",
    "    ind = np.nonzero(reg)[0][0]\n",
    "    regions[sareas==s] = ind\n",
    "    rname = region_names[ind]\n",
    "    sreg = np.array([rname in sr for sr in superregion])\n",
    "    ind = np.nonzero(sreg)[0][0]\n",
    "    super_regions[sareas==s] = ind\n",
    "    "
   ]
  },
  {
   "cell_type": "code",
   "execution_count": null,
   "metadata": {},
   "outputs": [],
   "source": [
    "sa = regions.copy()\n",
    "n_reg = len(region_names)\n",
    "fracS = np.nan * np.ones(n_reg)\n",
    "fracC = np.nan * np.ones(n_reg)\n",
    "fracL = np.nan * np.ones(n_reg)\n",
    "latL = np.nan * np.ones(n_reg)\n",
    "latS = np.nan * np.ones(n_reg)\n",
    "toff = np.nan * np.ones(n_reg)\n",
    "supp = np.nan * np.ones(n_reg)\n",
    "bad_areas = ['VS', 'Fiber', 'error']\n",
    "print('frac active \\t syncope \\t control')\n",
    "for i in range(n_reg):\n",
    "    if (sa==i).sum() > 0 and region_names[i] not in bad_areas:\n",
    "        inds = np.nonzero(sa==i)[0]\n",
    "        supp[i] = suppresseds[inds].mean()\n",
    "        fracS[i] = (latenciesS[inds]<0.25).mean()\n",
    "        fracL[i] = (latenciesL[inds]<0.25).mean()\n",
    "        fracC[i] = (latenciesC[inds]<0.25).mean()\n",
    "        latL[i] = np.median(latenciesL[inds][latenciesL[inds]<0.25])\n",
    "        latS[i] = np.mean(latenciesS[inds][latenciesS[inds]<0.25])\n",
    "        inds = inds[latenciesS[inds]<0.25]\n",
    "        toff[i] = np.nanmean(timeoffs[inds])\n",
    "        print(f'{region_names[i]}       \\t {1-fracS[i]:.3f} \\t\\t {1-fracC[i]:.3f} ')    "
   ]
  },
  {
   "cell_type": "markdown",
   "metadata": {},
   "source": [
    "plot rasters"
   ]
  },
  {
   "cell_type": "code",
   "execution_count": null,
   "metadata": {},
   "outputs": [],
   "source": [
    "nr = len(superregion_names) - 2\n",
    "lS = np.zeros(nr) * np.nan\n",
    "\n",
    "for sr in np.arange(0, nr):\n",
    "    ir = np.unique(regions[super_regions==sr])\n",
    "    lS[sr] = np.nanmean(fracS[ir]) \n",
    "isort = lS.argsort()\n",
    "isort= np.array([5, 1, 4, 6, 3, 0, 2])\n",
    "isort_all = np.zeros(0, 'int')\n",
    "\n",
    "colors = np.zeros((len(fracS), 4))\n",
    "cmaps = ['summer', 'Blues', 'Oranges', 'winter', 'Reds', 'Purples', [1,0,1,1]]\n",
    "istart = .3 * np.ones(len(cmaps))\n",
    "iend = .9 * np.ones(len(cmaps))\n",
    "istart[3] = 0.7\n",
    "iend[3] = 1.0\n",
    "iend[0] = 0.8\n",
    "ylabels = []\n",
    "for ks, sr in enumerate(isort):\n",
    "    ir = np.unique(regions[super_regions==sr])\n",
    "    ir = ir[fracS[ir].argsort()]\n",
    "    ir = ir[~np.isnan(fracS[ir])]\n",
    "    isort_all = np.append(isort_all, ir)\n",
    "    if ks < len(isort)-1:\n",
    "        colors[ir] = plt.get_cmap(cmaps[ks])(np.linspace(istart[ks], iend[ks], len(ir)))\n",
    "    else:\n",
    "        colors[ir[0]] = cmaps[ks]\n",
    "\n",
    "neural_sort = np.zeros(0, 'int')\n",
    "nk=0\n",
    "for k,i in enumerate(isort_all):\n",
    "    lata = latenciesS[sa==i].copy()\n",
    "    raster = rastersS[sa==i].astype('float32')\n",
    "    ylabels.append(region_names[i])\n",
    "    rmax = raster.max(axis=1)\n",
    "    rmax[rmax==0] = 1\n",
    "    lata[lata >= 0.25] = np.nan\n",
    "    \n",
    "    inds = [~np.isnan(lata), np.isnan(lata)]\n",
    "    for a in range(2):\n",
    "        raster = rastersS[sa==i].astype('float32')[inds[a]]\n",
    "        isort_raster = raster[:,:].mean(axis=1).argsort() #np.arange(0, raster.shape[0])#\n",
    "        neural_sort = np.append(neural_sort, inds[a].nonzero()[0][isort_raster])\n",
    "    nk+=raster.shape[0]\n",
    "    \n",
    "\n",
    "fig=plt.figure(figsize=(8,14), dpi=100)\n",
    "ax = fig.add_axes([0.05, 0.05, 0.45, 0.9])\n",
    "\n",
    "nb = 50\n",
    "ypad = int(50*0.25)\n",
    "nr = len(isort_all)\n",
    "imraster = np.zeros((nr*(nb+ypad), 1200))\n",
    "nk = 0\n",
    "nks = []\n",
    "for k,i in enumerate(isort_all):\n",
    "    #print((sa==i).sum())\n",
    "    raster = rasters_summary[sa==i].astype('float32') * 10\n",
    "    lata = latenciesS[sa==i].copy()\n",
    "    lata[lata >= 0.25] = np.nan\n",
    "    \n",
    "    nki = raster.shape[0]\n",
    "    isort_raster = neural_sort[nk : nk+nki]\n",
    "    \n",
    "    raster = raster[isort_raster]\n",
    "    raster = cv2.resize(raster, (1200, nb), cv2.INTER_LINEAR)\n",
    "    imraster[k*(nb + ypad): k*(nb + ypad) + nb] = raster\n",
    "    nk += nki\n",
    "vmax = 12\n",
    "im = ax.imshow(imraster, extent=[-30, 90, imraster.shape[0], 0], vmin=0, vmax=vmax, cmap='gray_r', aspect='auto')\n",
    "\n",
    "ax.plot([0, 0], [-ypad/2, nr*(nb+ypad)], color='k')\n",
    "ax.plot([30, 30], [-ypad/2, nr*(nb+ypad)], color='k')\n",
    "ax.set_xticks(np.arange(-30, 91, 30))\n",
    "ax.set_xlabel('time (s)')\n",
    "ax.spines['right'].set_visible(False)\n",
    "ax.spines['left'].set_visible(False)\n",
    "ax.set_yticks(np.arange(nb//2, (nr+0.1)*(nb+ypad), nb+ypad))\n",
    "ax.set_yticklabels(ylabels)\n",
    "ax.spines['top'].set_visible(False)\n",
    "ax.set_ylim([-ypad/2, nr*(nb+ypad) - ypad/2])\n",
    "ax.invert_yaxis()\n",
    "\n",
    "apos = ax.get_position()\n",
    "cax = fig.add_axes([apos.x1+0.03, apos.y1-0.05, 0.008, 0.05])\n",
    "plt.colorbar(im, cax=cax)\n",
    "cax.set_yticks([0,10])\n",
    "cax.set_yticklabels(['0', '10'], fontsize=8)\n",
    "cax.set_ylabel('firing rate (Hz)', fontsize=8)\n",
    "cax.yaxis.tick_left()  "
   ]
  },
  {
   "cell_type": "markdown",
   "metadata": {},
   "source": [
    "plot % active"
   ]
  },
  {
   "cell_type": "code",
   "execution_count": null,
   "metadata": {},
   "outputs": [],
   "source": [
    "fig=plt.figure(figsize=(3,3), dpi=300)\n",
    "ax=fig.add_subplot(1,1,1)\n",
    "ax.spines['right'].set_visible(False)\n",
    "ax.spines['top'].set_visible(False)\n",
    "ax.plot(np.stack((np.zeros(len(fracC)), np.ones(len(fracC))), axis=0), \n",
    "        np.stack((100 - fracC * 100, 100 - fracS * 100), axis=0), color='k', zorder=-1, lw=0.5)\n",
    "ax.scatter(np.zeros(len(fracC)), 100 - fracC * 100, s=8, color=colors)\n",
    "ax.scatter(np.ones(len(fracC)), 100 - fracS * 100, s=8, color=colors)\n",
    "#, fracS * 100)\n",
    "ax.set_ylabel('% neurons active')\n",
    "ax.set_xticks([0, 1])\n",
    "ax.set_yticks(np.arange(0, 101, 25))\n",
    "ax.set_xticklabels(['at random', 'at syncope onset'])\n",
    "ax.set_ylim([0,102])\n",
    "ax.set_xlim([-0.25, 1.25])\n",
    "from scipy.stats import ttest_rel\n",
    "ind = ~np.isnan(fracS)\n",
    "ttest_rel(fracC[ind], fracS[ind])"
   ]
  },
  {
   "cell_type": "markdown",
   "metadata": {},
   "source": [
    "## behavioral prediction analysis\n",
    "\n",
    "compute residuals"
   ]
  },
  {
   "cell_type": "code",
   "execution_count": null,
   "metadata": {},
   "outputs": [],
   "source": [
    "out = process.get_residuals(root)\n",
    "laser_res, lasoff_res, pre_res, syncon_res, syncoff_res, rasters_res, rasters_S = out"
   ]
  },
  {
   "cell_type": "markdown",
   "metadata": {},
   "source": [
    "plot residual summary"
   ]
  },
  {
   "cell_type": "code",
   "execution_count": null,
   "metadata": {},
   "outputs": [],
   "source": [
    "from scipy.stats import ttest_rel\n",
    "\n",
    "fig = plt.figure(figsize=(6,6), dpi=300)\n",
    "ax = fig.add_subplot(1,1,1)\n",
    "dy = [0, -18, -29]\n",
    "txt = ['pre-laser', 'laser onset', 'syncope onset']\n",
    "stars = ['***', ' ** ', ' * ', '']\n",
    "pthr = [1e-3, 0.01, 0.05, 100]\n",
    "ylabels = []\n",
    "syncon_all=[]\n",
    "for ip, vals in enumerate([pre_res, laser_res, syncon_res]):\n",
    "    resk = np.zeros(len(isort_all))\n",
    "    bottom = dy[ip]\n",
    "    for k, i in enumerate(isort_all):\n",
    "        ind = regions==i\n",
    "        nn = ind.sum()\n",
    "        res = np.mean(vals[ind]) * 10 #/ firing_rates[regions==i].mean()\n",
    "        sres = (vals[ind] * 10).std() / (nn)**0.5 \n",
    "        ax.errorbar(k, res + bottom, sres, color=colors[i])\n",
    "        ax.bar(k, res, color=colors[i], bottom=bottom) \n",
    "        if ip > 0:\n",
    "            p = ttest_rel(vals[ind], pre_res[ind]).pvalue\n",
    "            istar = np.nonzero(p < pthr)[0][0]\n",
    "            ax.text(k-0.5, res+np.sign(res)*(sres+1)+bottom, \n",
    "                    stars[istar], va='center', fontsize=10)\n",
    "        #print(p < 0.05)\n",
    "        #ax.set_ylim([-4, 15])\n",
    "        if ip==0:\n",
    "            ylabels.append(region_names[i])\n",
    "        resk[k] = res + sres\n",
    "        if ip==2:\n",
    "            syncon_all.extend(vals[ind])\n",
    "    k+=1\n",
    "    ind = np.ones(len(regions), 'bool')\n",
    "    res = np.mean(vals[ind]) * 10 #/ firing_rates[regions==i].mean()\n",
    "    sres = (vals[ind] * 10).std() / (nn)**0.5 \n",
    "    ax.errorbar(k, res + bottom, sres, color=[0.5,0.5,0.5])\n",
    "    ax.bar(k, res, color=[0.5,0.5,0.5], bottom=bottom) \n",
    "    if ip > 0:\n",
    "        p = ttest_rel(vals[ind], pre_res[ind]).pvalue\n",
    "        istar = np.nonzero(p < pthr)[0][0]\n",
    "        ax.text(k-0.5, res+np.sign(res)*(sres+1)+bottom, \n",
    "                stars[istar], va='center', fontsize=10)\n",
    "    ax.plot([-1.4, -1.4], np.array([0, 2]) + bottom, color='k', lw=2)\n",
    "    ax.plot([-1, k+1], np.ones(2) * bottom, color='k', lw=1)\n",
    "    ax.text(-1, resk.max() + 1*(ip+1) + bottom, txt[ip], fontsize=14)\n",
    "    \n",
    "ax.set_xlim([-1.5, k+1])\n",
    "ax.axis('off')\n",
    "ax.text(-1.4, 0.2, '2 Hz', rotation=90, ha='right')#, transform=ax.transAxes)\n",
    "for k,y in enumerate(ylabels):\n",
    "    ax.text(k, bottom - 6, y, rotation=90, ha='center', va='top')\n",
    "ax.text(k+1, bottom - 6, 'all', rotation=90, ha='center', va='top')\n",
    "    \n",
    "\n",
    "ax.text(-4, dy[-1]+ 2, 'zscore difference',  fontsize=14, rotation=90)\n"
   ]
  }
 ],
 "metadata": {
  "kernelspec": {
   "display_name": "Python 3.8.13 ('pytorch')",
   "language": "python",
   "name": "python3"
  },
  "language_info": {
   "codemirror_mode": {
    "name": "ipython",
    "version": 3
   },
   "file_extension": ".py",
   "mimetype": "text/x-python",
   "name": "python",
   "nbconvert_exporter": "python",
   "pygments_lexer": "ipython3",
   "version": "3.8.13"
  },
  "orig_nbformat": 4,
  "vscode": {
   "interpreter": {
    "hash": "55f6ab564697fd2b5abf181c46679980d6a96d0b52600db475f294ec19a3726d"
   }
  }
 },
 "nbformat": 4,
 "nbformat_minor": 2
}
